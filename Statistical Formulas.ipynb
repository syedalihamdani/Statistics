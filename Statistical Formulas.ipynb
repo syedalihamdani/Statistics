{
 "cells": [
  {
   "cell_type": "code",
   "execution_count": 23,
   "id": "39be59b5",
   "metadata": {},
   "outputs": [],
   "source": [
    "import numpy as np\n",
    "import pandas as pd\n"
   ]
  },
  {
   "cell_type": "code",
   "execution_count": 24,
   "id": "f110d80d",
   "metadata": {},
   "outputs": [],
   "source": [
    "data=pd.read_csv('titanic.csv')"
   ]
  },
  {
   "cell_type": "code",
   "execution_count": 25,
   "id": "5931fd7e",
   "metadata": {},
   "outputs": [
    {
     "data": {
      "text/html": [
       "<div>\n",
       "<style scoped>\n",
       "    .dataframe tbody tr th:only-of-type {\n",
       "        vertical-align: middle;\n",
       "    }\n",
       "\n",
       "    .dataframe tbody tr th {\n",
       "        vertical-align: top;\n",
       "    }\n",
       "\n",
       "    .dataframe thead th {\n",
       "        text-align: right;\n",
       "    }\n",
       "</style>\n",
       "<table border=\"1\" class=\"dataframe\">\n",
       "  <thead>\n",
       "    <tr style=\"text-align: right;\">\n",
       "      <th></th>\n",
       "      <th>survived</th>\n",
       "      <th>pclass</th>\n",
       "      <th>sex</th>\n",
       "      <th>age</th>\n",
       "      <th>sibsp</th>\n",
       "      <th>parch</th>\n",
       "      <th>fare</th>\n",
       "      <th>embarked</th>\n",
       "      <th>class</th>\n",
       "      <th>who</th>\n",
       "      <th>adult_male</th>\n",
       "      <th>deck</th>\n",
       "      <th>embark_town</th>\n",
       "      <th>alive</th>\n",
       "      <th>alone</th>\n",
       "    </tr>\n",
       "  </thead>\n",
       "  <tbody>\n",
       "    <tr>\n",
       "      <th>0</th>\n",
       "      <td>0</td>\n",
       "      <td>3</td>\n",
       "      <td>male</td>\n",
       "      <td>22.0</td>\n",
       "      <td>1</td>\n",
       "      <td>0</td>\n",
       "      <td>7.2500</td>\n",
       "      <td>S</td>\n",
       "      <td>Third</td>\n",
       "      <td>man</td>\n",
       "      <td>True</td>\n",
       "      <td>NaN</td>\n",
       "      <td>Southampton</td>\n",
       "      <td>no</td>\n",
       "      <td>False</td>\n",
       "    </tr>\n",
       "    <tr>\n",
       "      <th>1</th>\n",
       "      <td>1</td>\n",
       "      <td>1</td>\n",
       "      <td>female</td>\n",
       "      <td>38.0</td>\n",
       "      <td>1</td>\n",
       "      <td>0</td>\n",
       "      <td>71.2833</td>\n",
       "      <td>C</td>\n",
       "      <td>First</td>\n",
       "      <td>woman</td>\n",
       "      <td>False</td>\n",
       "      <td>C</td>\n",
       "      <td>Cherbourg</td>\n",
       "      <td>yes</td>\n",
       "      <td>False</td>\n",
       "    </tr>\n",
       "    <tr>\n",
       "      <th>2</th>\n",
       "      <td>1</td>\n",
       "      <td>3</td>\n",
       "      <td>female</td>\n",
       "      <td>26.0</td>\n",
       "      <td>0</td>\n",
       "      <td>0</td>\n",
       "      <td>7.9250</td>\n",
       "      <td>S</td>\n",
       "      <td>Third</td>\n",
       "      <td>woman</td>\n",
       "      <td>False</td>\n",
       "      <td>NaN</td>\n",
       "      <td>Southampton</td>\n",
       "      <td>yes</td>\n",
       "      <td>True</td>\n",
       "    </tr>\n",
       "    <tr>\n",
       "      <th>3</th>\n",
       "      <td>1</td>\n",
       "      <td>1</td>\n",
       "      <td>female</td>\n",
       "      <td>35.0</td>\n",
       "      <td>1</td>\n",
       "      <td>0</td>\n",
       "      <td>53.1000</td>\n",
       "      <td>S</td>\n",
       "      <td>First</td>\n",
       "      <td>woman</td>\n",
       "      <td>False</td>\n",
       "      <td>C</td>\n",
       "      <td>Southampton</td>\n",
       "      <td>yes</td>\n",
       "      <td>False</td>\n",
       "    </tr>\n",
       "    <tr>\n",
       "      <th>4</th>\n",
       "      <td>0</td>\n",
       "      <td>3</td>\n",
       "      <td>male</td>\n",
       "      <td>35.0</td>\n",
       "      <td>0</td>\n",
       "      <td>0</td>\n",
       "      <td>8.0500</td>\n",
       "      <td>S</td>\n",
       "      <td>Third</td>\n",
       "      <td>man</td>\n",
       "      <td>True</td>\n",
       "      <td>NaN</td>\n",
       "      <td>Southampton</td>\n",
       "      <td>no</td>\n",
       "      <td>True</td>\n",
       "    </tr>\n",
       "    <tr>\n",
       "      <th>...</th>\n",
       "      <td>...</td>\n",
       "      <td>...</td>\n",
       "      <td>...</td>\n",
       "      <td>...</td>\n",
       "      <td>...</td>\n",
       "      <td>...</td>\n",
       "      <td>...</td>\n",
       "      <td>...</td>\n",
       "      <td>...</td>\n",
       "      <td>...</td>\n",
       "      <td>...</td>\n",
       "      <td>...</td>\n",
       "      <td>...</td>\n",
       "      <td>...</td>\n",
       "      <td>...</td>\n",
       "    </tr>\n",
       "    <tr>\n",
       "      <th>886</th>\n",
       "      <td>0</td>\n",
       "      <td>2</td>\n",
       "      <td>male</td>\n",
       "      <td>27.0</td>\n",
       "      <td>0</td>\n",
       "      <td>0</td>\n",
       "      <td>13.0000</td>\n",
       "      <td>S</td>\n",
       "      <td>Second</td>\n",
       "      <td>man</td>\n",
       "      <td>True</td>\n",
       "      <td>NaN</td>\n",
       "      <td>Southampton</td>\n",
       "      <td>no</td>\n",
       "      <td>True</td>\n",
       "    </tr>\n",
       "    <tr>\n",
       "      <th>887</th>\n",
       "      <td>1</td>\n",
       "      <td>1</td>\n",
       "      <td>female</td>\n",
       "      <td>19.0</td>\n",
       "      <td>0</td>\n",
       "      <td>0</td>\n",
       "      <td>30.0000</td>\n",
       "      <td>S</td>\n",
       "      <td>First</td>\n",
       "      <td>woman</td>\n",
       "      <td>False</td>\n",
       "      <td>B</td>\n",
       "      <td>Southampton</td>\n",
       "      <td>yes</td>\n",
       "      <td>True</td>\n",
       "    </tr>\n",
       "    <tr>\n",
       "      <th>888</th>\n",
       "      <td>0</td>\n",
       "      <td>3</td>\n",
       "      <td>female</td>\n",
       "      <td>NaN</td>\n",
       "      <td>1</td>\n",
       "      <td>2</td>\n",
       "      <td>23.4500</td>\n",
       "      <td>S</td>\n",
       "      <td>Third</td>\n",
       "      <td>woman</td>\n",
       "      <td>False</td>\n",
       "      <td>NaN</td>\n",
       "      <td>Southampton</td>\n",
       "      <td>no</td>\n",
       "      <td>False</td>\n",
       "    </tr>\n",
       "    <tr>\n",
       "      <th>889</th>\n",
       "      <td>1</td>\n",
       "      <td>1</td>\n",
       "      <td>male</td>\n",
       "      <td>26.0</td>\n",
       "      <td>0</td>\n",
       "      <td>0</td>\n",
       "      <td>30.0000</td>\n",
       "      <td>C</td>\n",
       "      <td>First</td>\n",
       "      <td>man</td>\n",
       "      <td>True</td>\n",
       "      <td>C</td>\n",
       "      <td>Cherbourg</td>\n",
       "      <td>yes</td>\n",
       "      <td>True</td>\n",
       "    </tr>\n",
       "    <tr>\n",
       "      <th>890</th>\n",
       "      <td>0</td>\n",
       "      <td>3</td>\n",
       "      <td>male</td>\n",
       "      <td>32.0</td>\n",
       "      <td>0</td>\n",
       "      <td>0</td>\n",
       "      <td>7.7500</td>\n",
       "      <td>Q</td>\n",
       "      <td>Third</td>\n",
       "      <td>man</td>\n",
       "      <td>True</td>\n",
       "      <td>NaN</td>\n",
       "      <td>Queenstown</td>\n",
       "      <td>no</td>\n",
       "      <td>True</td>\n",
       "    </tr>\n",
       "  </tbody>\n",
       "</table>\n",
       "<p>891 rows × 15 columns</p>\n",
       "</div>"
      ],
      "text/plain": [
       "     survived  pclass     sex   age  sibsp  parch     fare embarked   class  \\\n",
       "0           0       3    male  22.0      1      0   7.2500        S   Third   \n",
       "1           1       1  female  38.0      1      0  71.2833        C   First   \n",
       "2           1       3  female  26.0      0      0   7.9250        S   Third   \n",
       "3           1       1  female  35.0      1      0  53.1000        S   First   \n",
       "4           0       3    male  35.0      0      0   8.0500        S   Third   \n",
       "..        ...     ...     ...   ...    ...    ...      ...      ...     ...   \n",
       "886         0       2    male  27.0      0      0  13.0000        S  Second   \n",
       "887         1       1  female  19.0      0      0  30.0000        S   First   \n",
       "888         0       3  female   NaN      1      2  23.4500        S   Third   \n",
       "889         1       1    male  26.0      0      0  30.0000        C   First   \n",
       "890         0       3    male  32.0      0      0   7.7500        Q   Third   \n",
       "\n",
       "       who  adult_male deck  embark_town alive  alone  \n",
       "0      man        True  NaN  Southampton    no  False  \n",
       "1    woman       False    C    Cherbourg   yes  False  \n",
       "2    woman       False  NaN  Southampton   yes   True  \n",
       "3    woman       False    C  Southampton   yes  False  \n",
       "4      man        True  NaN  Southampton    no   True  \n",
       "..     ...         ...  ...          ...   ...    ...  \n",
       "886    man        True  NaN  Southampton    no   True  \n",
       "887  woman       False    B  Southampton   yes   True  \n",
       "888  woman       False  NaN  Southampton    no  False  \n",
       "889    man        True    C    Cherbourg   yes   True  \n",
       "890    man        True  NaN   Queenstown    no   True  \n",
       "\n",
       "[891 rows x 15 columns]"
      ]
     },
     "execution_count": 25,
     "metadata": {},
     "output_type": "execute_result"
    }
   ],
   "source": [
    "data"
   ]
  },
  {
   "cell_type": "markdown",
   "id": "23a7cc05",
   "metadata": {},
   "source": [
    "## Mean"
   ]
  },
  {
   "cell_type": "code",
   "execution_count": 26,
   "id": "b9ea13b8",
   "metadata": {},
   "outputs": [
    {
     "name": "stderr",
     "output_type": "stream",
     "text": [
      "C:\\Users\\Umair IT Solution\\AppData\\Local\\Temp\\ipykernel_11668\\531903386.py:1: FutureWarning: Dropping of nuisance columns in DataFrame reductions (with 'numeric_only=None') is deprecated; in a future version this will raise TypeError.  Select only valid columns before calling the reduction.\n",
      "  data.mean()\n"
     ]
    },
    {
     "data": {
      "text/plain": [
       "survived       0.383838\n",
       "pclass         2.308642\n",
       "age           29.699118\n",
       "sibsp          0.523008\n",
       "parch          0.381594\n",
       "fare          32.204208\n",
       "adult_male     0.602694\n",
       "alone          0.602694\n",
       "dtype: float64"
      ]
     },
     "execution_count": 26,
     "metadata": {},
     "output_type": "execute_result"
    }
   ],
   "source": [
    "data.mean()"
   ]
  },
  {
   "cell_type": "code",
   "execution_count": 27,
   "id": "d205cb72",
   "metadata": {},
   "outputs": [],
   "source": [
    "d=np.array([1,5,4,5,8,1,2,3,4])"
   ]
  },
  {
   "cell_type": "code",
   "execution_count": 28,
   "id": "d1810a25",
   "metadata": {},
   "outputs": [
    {
     "data": {
      "text/plain": [
       "3.6666666666666665"
      ]
     },
     "execution_count": 28,
     "metadata": {},
     "output_type": "execute_result"
    }
   ],
   "source": [
    "d.mean()"
   ]
  },
  {
   "cell_type": "code",
   "execution_count": 29,
   "id": "1d478905",
   "metadata": {},
   "outputs": [
    {
     "data": {
      "text/plain": [
       "32.204207968574636"
      ]
     },
     "execution_count": 29,
     "metadata": {},
     "output_type": "execute_result"
    }
   ],
   "source": [
    "data['fare'].mean()"
   ]
  },
  {
   "cell_type": "markdown",
   "id": "e831fbbc",
   "metadata": {},
   "source": [
    "### mean effected because of outlier"
   ]
  },
  {
   "cell_type": "code",
   "execution_count": 30,
   "id": "1a50334d",
   "metadata": {},
   "outputs": [],
   "source": [
    "d=np.array([1,3,5,6,2,4,1000000])"
   ]
  },
  {
   "cell_type": "code",
   "execution_count": 31,
   "id": "8e23574f",
   "metadata": {},
   "outputs": [],
   "source": [
    "# 1000000 is a outlier"
   ]
  },
  {
   "cell_type": "code",
   "execution_count": 32,
   "id": "16673a95",
   "metadata": {},
   "outputs": [
    {
     "data": {
      "text/plain": [
       "142860.14285714287"
      ]
     },
     "execution_count": 32,
     "metadata": {},
     "output_type": "execute_result"
    }
   ],
   "source": [
    "d.mean()"
   ]
  },
  {
   "cell_type": "markdown",
   "id": "92282d4c",
   "metadata": {},
   "source": [
    "# Mode"
   ]
  },
  {
   "cell_type": "markdown",
   "id": "eb158e97",
   "metadata": {},
   "source": [
    "### Data set can have one or more then one Mode"
   ]
  },
  {
   "cell_type": "code",
   "execution_count": 33,
   "id": "ccca44fd",
   "metadata": {},
   "outputs": [],
   "source": [
    "import numpy as np\n",
    "import pandas as pd\n",
    "import statistics as st"
   ]
  },
  {
   "cell_type": "code",
   "execution_count": 34,
   "id": "bdba85d1",
   "metadata": {},
   "outputs": [],
   "source": [
    "d=np.array([1,5,4,8,1,2,3,9])"
   ]
  },
  {
   "cell_type": "code",
   "execution_count": 35,
   "id": "f323f031",
   "metadata": {},
   "outputs": [
    {
     "name": "stdout",
     "output_type": "stream",
     "text": [
      "The mode of the data point is 1\n"
     ]
    }
   ],
   "source": [
    "print(\"The mode of the data point is\", statistics.mode(d))"
   ]
  },
  {
   "cell_type": "code",
   "execution_count": 37,
   "id": "d4d5a738",
   "metadata": {},
   "outputs": [
    {
     "data": {
      "text/plain": [
       "8.05"
      ]
     },
     "execution_count": 37,
     "metadata": {},
     "output_type": "execute_result"
    }
   ],
   "source": [
    "st.mode(data['fare'])"
   ]
  },
  {
   "cell_type": "markdown",
   "id": "29d30617",
   "metadata": {},
   "source": [
    "# median"
   ]
  },
  {
   "cell_type": "code",
   "execution_count": 39,
   "id": "985531b7",
   "metadata": {},
   "outputs": [
    {
     "data": {
      "text/plain": [
       "3.5"
      ]
     },
     "execution_count": 39,
     "metadata": {},
     "output_type": "execute_result"
    }
   ],
   "source": [
    "st.median(d)"
   ]
  },
  {
   "cell_type": "code",
   "execution_count": 40,
   "id": "a6993371",
   "metadata": {},
   "outputs": [
    {
     "data": {
      "text/plain": [
       "4.125"
      ]
     },
     "execution_count": 40,
     "metadata": {},
     "output_type": "execute_result"
    }
   ],
   "source": [
    "d.mean()"
   ]
  },
  {
   "cell_type": "markdown",
   "id": "52eb64d9",
   "metadata": {},
   "source": [
    "# Variance"
   ]
  },
  {
   "cell_type": "code",
   "execution_count": 41,
   "id": "67ee105c",
   "metadata": {},
   "outputs": [],
   "source": [
    "# The variance is a measure of variability. It is calculated by taking the average of squared deviations from the mean.\n",
    "\n",
    "# Variance tells you the degree of spread in your data set. The more spread the data, the larger the variance is in relation to\n",
    "# the mean.\n",
    "\n",
    "# Table of contents"
   ]
  },
  {
   "cell_type": "code",
   "execution_count": 45,
   "id": "be719214",
   "metadata": {},
   "outputs": [
    {
     "name": "stdout",
     "output_type": "stream",
     "text": [
      "The variance is: 9\n"
     ]
    }
   ],
   "source": [
    "print(\"The variance is:\",statistics.variance(d))"
   ]
  },
  {
   "cell_type": "markdown",
   "id": "7186d9fc",
   "metadata": {},
   "source": [
    "# Standard Deviation "
   ]
  },
  {
   "cell_type": "code",
   "execution_count": 49,
   "id": "4ae6fa97",
   "metadata": {},
   "outputs": [
    {
     "name": "stdout",
     "output_type": "stream",
     "text": [
      "The variance is: 3.0\n"
     ]
    }
   ],
   "source": [
    "print(\"The variance is:\",statistics.stdev(d))"
   ]
  },
  {
   "cell_type": "code",
   "execution_count": 52,
   "id": "6122a6ee",
   "metadata": {},
   "outputs": [
    {
     "data": {
      "text/plain": [
       "49.6934285971809"
      ]
     },
     "execution_count": 52,
     "metadata": {},
     "output_type": "execute_result"
    }
   ],
   "source": [
    "statistics.stdev(data['fare'\n",
    "])"
   ]
  },
  {
   "cell_type": "markdown",
   "id": "947ea4b1",
   "metadata": {},
   "source": [
    "# Range"
   ]
  },
  {
   "cell_type": "code",
   "execution_count": 53,
   "id": "ba0df7d8",
   "metadata": {},
   "outputs": [
    {
     "name": "stdout",
     "output_type": "stream",
     "text": [
      "The range is: 8\n"
     ]
    }
   ],
   "source": [
    "print(\"The range is:\",max(d)-min(d))"
   ]
  },
  {
   "cell_type": "code",
   "execution_count": 54,
   "id": "7ab5336e",
   "metadata": {},
   "outputs": [
    {
     "name": "stdout",
     "output_type": "stream",
     "text": [
      "The range is: 512.3292\n"
     ]
    }
   ],
   "source": [
    "print(\"The range is:\",max(data['fare'])-min(data['fare']))"
   ]
  },
  {
   "cell_type": "markdown",
   "id": "c87c929d",
   "metadata": {},
   "source": [
    "#  Midrange"
   ]
  },
  {
   "cell_type": "code",
   "execution_count": 56,
   "id": "45291203",
   "metadata": {},
   "outputs": [
    {
     "name": "stdout",
     "output_type": "stream",
     "text": [
      "The midrange is: 9.5\n"
     ]
    }
   ],
   "source": [
    "print(\"The midrange is:\",(max(d))+(min(d))/2)"
   ]
  },
  {
   "cell_type": "markdown",
   "id": "6435d176",
   "metadata": {},
   "source": [
    "# Percentile"
   ]
  },
  {
   "cell_type": "code",
   "execution_count": 57,
   "id": "d1aa9358",
   "metadata": {},
   "outputs": [],
   "source": [
    "import numpy as np\n",
    "data=range(0,101)\n"
   ]
  },
  {
   "cell_type": "code",
   "execution_count": 58,
   "id": "78eaf739",
   "metadata": {},
   "outputs": [
    {
     "name": "stdout",
     "output_type": "stream",
     "text": [
      "1st percentile of data is: 1.0\n"
     ]
    }
   ],
   "source": [
    "print(\"1st percentile of data is:\",np.percentile(data,1))"
   ]
  },
  {
   "cell_type": "code",
   "execution_count": 59,
   "id": "2ab38bba",
   "metadata": {},
   "outputs": [
    {
     "name": "stdout",
     "output_type": "stream",
     "text": [
      "5th percentile of data is: 5.0\n"
     ]
    }
   ],
   "source": [
    "print(\"5th percentile of data is:\",np.percentile(data,5))"
   ]
  },
  {
   "cell_type": "code",
   "execution_count": 60,
   "id": "8a2b4ab9",
   "metadata": {},
   "outputs": [
    {
     "name": "stdout",
     "output_type": "stream",
     "text": [
      "10th percentile of data is: 10.0\n"
     ]
    }
   ],
   "source": [
    "print(\"10th percentile of data is:\",np.percentile(data,10))"
   ]
  },
  {
   "cell_type": "code",
   "execution_count": 61,
   "id": "a609638c",
   "metadata": {},
   "outputs": [
    {
     "name": "stdout",
     "output_type": "stream",
     "text": [
      "25th percentile of data is: 25.0\n"
     ]
    }
   ],
   "source": [
    "print(\"25th percentile of data is:\",np.percentile(data,25))"
   ]
  },
  {
   "cell_type": "code",
   "execution_count": 62,
   "id": "f7e8a7b9",
   "metadata": {},
   "outputs": [
    {
     "name": "stdout",
     "output_type": "stream",
     "text": [
      "50th percentile of data is: 50.0\n"
     ]
    }
   ],
   "source": [
    "print(\"50th percentile of data is:\",np.percentile(data,50))"
   ]
  },
  {
   "cell_type": "code",
   "execution_count": 63,
   "id": "2ea3ccd4",
   "metadata": {},
   "outputs": [
    {
     "name": "stdout",
     "output_type": "stream",
     "text": [
      "75th percentile of data is: 75.0\n"
     ]
    }
   ],
   "source": [
    "print(\"75th percentile of data is:\",np.percentile(data,75))"
   ]
  },
  {
   "cell_type": "code",
   "execution_count": 64,
   "id": "598087f5",
   "metadata": {},
   "outputs": [
    {
     "name": "stdout",
     "output_type": "stream",
     "text": [
      "100th percentile of data is: 100.0\n"
     ]
    }
   ],
   "source": [
    "print(\"100th percentile of data is:\",np.percentile(data,100))"
   ]
  },
  {
   "cell_type": "markdown",
   "id": "9d9beb89",
   "metadata": {},
   "source": [
    "# Quartile"
   ]
  },
  {
   "cell_type": "code",
   "execution_count": 65,
   "id": "081c1521",
   "metadata": {},
   "outputs": [],
   "source": [
    "import numpy as np"
   ]
  },
  {
   "cell_type": "code",
   "execution_count": 66,
   "id": "3957617a",
   "metadata": {},
   "outputs": [],
   "source": [
    "data=range(0,101)"
   ]
  },
  {
   "cell_type": "code",
   "execution_count": 67,
   "id": "26f5b767",
   "metadata": {},
   "outputs": [
    {
     "name": "stdout",
     "output_type": "stream",
     "text": [
      "Q1 of data is: 25.0\n"
     ]
    }
   ],
   "source": [
    "print(\"Q1 of data is:\",np.quantile(data,0.25))"
   ]
  },
  {
   "cell_type": "code",
   "execution_count": 68,
   "id": "09d34110",
   "metadata": {},
   "outputs": [
    {
     "name": "stdout",
     "output_type": "stream",
     "text": [
      "Q2 of data is: 50.0\n"
     ]
    }
   ],
   "source": [
    "print(\"Q2 of data is:\",np.quantile(data,0.50))"
   ]
  },
  {
   "cell_type": "code",
   "execution_count": 69,
   "id": "8141c053",
   "metadata": {},
   "outputs": [
    {
     "name": "stdout",
     "output_type": "stream",
     "text": [
      "Q3 of data is: 75.0\n"
     ]
    }
   ],
   "source": [
    "print(\"Q3 of data is:\",np.quantile(data,0.75))"
   ]
  },
  {
   "cell_type": "code",
   "execution_count": 71,
   "id": "2adb28a0",
   "metadata": {},
   "outputs": [
    {
     "name": "stdout",
     "output_type": "stream",
     "text": [
      "Q4 of data is: 10.0\n"
     ]
    }
   ],
   "source": [
    "print(\"Q4 of data is:\",np.quantile(data,0.1))"
   ]
  },
  {
   "cell_type": "markdown",
   "id": "a23acbae",
   "metadata": {},
   "source": [
    "# Interquartile"
   ]
  },
  {
   "cell_type": "code",
   "execution_count": 72,
   "id": "f8845014",
   "metadata": {},
   "outputs": [],
   "source": [
    "#  It is a difference between quantile Q1 and Q3.It is also calculate the dispersion of data standared divistion and midspread"
   ]
  },
  {
   "cell_type": "code",
   "execution_count": 73,
   "id": "60ff2dd4",
   "metadata": {},
   "outputs": [],
   "source": [
    "from scipy import stats"
   ]
  },
  {
   "cell_type": "code",
   "execution_count": 74,
   "id": "24cdca18",
   "metadata": {},
   "outputs": [],
   "source": [
    "data=[32,36,46,47,56,67,75,79,88,89,91,93,96,101,105,112,116]"
   ]
  },
  {
   "cell_type": "code",
   "execution_count": 75,
   "id": "e548a6e3",
   "metadata": {},
   "outputs": [],
   "source": [
    "IQR=stats.iqr(data)"
   ]
  },
  {
   "cell_type": "code",
   "execution_count": 76,
   "id": "face75fc",
   "metadata": {},
   "outputs": [
    {
     "name": "stdout",
     "output_type": "stream",
     "text": [
      "40.0\n"
     ]
    }
   ],
   "source": [
    "print(IQR)"
   ]
  },
  {
   "cell_type": "markdown",
   "id": "3aee2f8c",
   "metadata": {},
   "source": [
    "# Box Plot"
   ]
  },
  {
   "cell_type": "code",
   "execution_count": 77,
   "id": "421bd060",
   "metadata": {},
   "outputs": [],
   "source": [
    "# A Box Plot is also known as Whisker plot is created to display the summary of the set of data values having properties like\n",
    "# minimum, first quartile, median, third quartile and maximum. In the box plot, a box is created from the first quartile to the\n",
    "# third quartile, a vertical line is also there which goes through the box at the median. Here x-axis denotes the data to be\n",
    "# plotted while the y-axis shows the frequency distribution."
   ]
  },
  {
   "cell_type": "markdown",
   "id": "6feccda3",
   "metadata": {},
   "source": [
    "\n",
    "### Finding outlier.When reviewing a box plot, an outlier is defined as a data point that is located outside the whiskers of the box plot."
   ]
  },
  {
   "cell_type": "markdown",
   "id": "4dedf285",
   "metadata": {},
   "source": [
    "### Whiskers"
   ]
  },
  {
   "cell_type": "code",
   "execution_count": 78,
   "id": "f88d3bf3",
   "metadata": {},
   "outputs": [],
   "source": [
    "# The whiskeres explains the upper quantile 25% and lower quantile 25% values"
   ]
  },
  {
   "cell_type": "code",
   "execution_count": 79,
   "id": "ad74c865",
   "metadata": {},
   "outputs": [],
   "source": [
    "import matplotlib.pyplot as plt\n",
    "import numpy as np"
   ]
  },
  {
   "cell_type": "code",
   "execution_count": 80,
   "id": "b4fa8ee9",
   "metadata": {},
   "outputs": [],
   "source": [
    "np.random.seed(10)"
   ]
  },
  {
   "cell_type": "code",
   "execution_count": 81,
   "id": "23bf61d9",
   "metadata": {},
   "outputs": [],
   "source": [
    "data=np.random.normal(100,20,200)"
   ]
  },
  {
   "cell_type": "code",
   "execution_count": 82,
   "id": "d326685b",
   "metadata": {},
   "outputs": [
    {
     "data": {
      "text/plain": [
       "<Figure size 720x504 with 0 Axes>"
      ]
     },
     "metadata": {},
     "output_type": "display_data"
    }
   ],
   "source": []
  },
  {
   "cell_type": "code",
   "execution_count": 85,
   "id": "2fa72ac0",
   "metadata": {},
   "outputs": [
    {
     "data": {
      "text/plain": [
       "<function matplotlib.pyplot.show(close=None, block=None)>"
      ]
     },
     "execution_count": 85,
     "metadata": {},
     "output_type": "execute_result"
    },
    {
     "data": {
      "image/png": "[encoded data removed]",
      "text/plain": [
       "<Figure size 720x504 with 1 Axes>"
      ]
     },
     "metadata": {
      "needs_background": "light"
     },
     "output_type": "display_data"
    }
   ],
   "source": [
    "fig=plt.figure(figsize=(10,7))\n",
    "plt.boxplot(data)\n",
    "plt.show"
   ]
  },
  {
   "cell_type": "markdown",
   "id": "1e82523a",
   "metadata": {},
   "source": [
    "# Customizing box plot"
   ]
  },
  {
   "cell_type": "markdown",
   "id": "ac13e65f",
   "metadata": {},
   "source": [
    "import matplotlib.pyplot as plt\n",
    "import numpy as np"
   ]
  },
  {
   "cell_type": "code",
   "execution_count": 86,
   "id": "8c79922b",
   "metadata": {},
   "outputs": [],
   "source": [
    "np.random.seed(10)"
   ]
  },
  {
   "cell_type": "code",
   "execution_count": 87,
   "id": "b21d7985",
   "metadata": {},
   "outputs": [],
   "source": [
    "data_1=np.random.normal(100,10,200)\n",
    "data_2=np.random.normal(90,20,200)\n",
    "data_3=np.random.normal(80,30,200)\n",
    "data_4=np.random.normal(70,40,200)\n",
    "data=[data_1,data_2,data_3,data_4]"
   ]
  },
  {
   "cell_type": "code",
   "execution_count": 89,
   "id": "eaff9e79",
   "metadata": {},
   "outputs": [
    {
     "data": {
      "image/png": "[encoded data removed]",
      "text/plain": [
       "<Figure size 720x504 with 1 Axes>"
      ]
     },
     "metadata": {
      "needs_background": "light"
     },
     "output_type": "display_data"
    }
   ],
   "source": [
    "fig=plt.figure(figsize=(10,7))\n",
    "ax=fig.add_axes([0,0,1,1])\n",
    "bp=ax.boxplot(data)\n",
    "plt.show()"
   ]
  },
  {
   "cell_type": "code",
   "execution_count": null,
   "id": "155fa0c3",
   "metadata": {},
   "outputs": [],
   "source": []
  }
 ],
 "metadata": {
  "kernelspec": {
   "display_name": "Python 3 (ipykernel)",
   "language": "python",
   "name": "python3"
  },
  "language_info": {
   "codemirror_mode": {
    "name": "ipython",
    "version": 3
   },
   "file_extension": ".py",
   "mimetype": "text/x-python",
   "name": "python",
   "nbconvert_exporter": "python",
   "pygments_lexer": "ipython3",
   "version": "3.10.5"
  }
 },
 "nbformat": 4,
 "nbformat_minor": 5
}
