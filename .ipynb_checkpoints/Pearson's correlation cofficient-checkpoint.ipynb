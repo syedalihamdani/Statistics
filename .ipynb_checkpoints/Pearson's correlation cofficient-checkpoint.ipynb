{
 "cells": [
  {
   "cell_type": "code",
   "execution_count": 1,
   "id": "74449f06",
   "metadata": {},
   "outputs": [],
   "source": [
    "# calculate the Pearson's correlation between two variables"
   ]
  },
  {
   "cell_type": "code",
   "execution_count": 2,
   "id": "cd504a3d",
   "metadata": {},
   "outputs": [],
   "source": [
    "from numpy.random import randn\n",
    "from numpy.random import seed\n",
    "from scipy.stats import pearsonr"
   ]
  },
  {
   "cell_type": "code",
   "execution_count": 3,
   "id": "2a48f630",
   "metadata": {},
   "outputs": [],
   "source": [
    "#seed random number generator\n",
    "seed(1)\n",
    "#prepare data\n",
    "data1=20*randn(1000)+100\n",
    "data2=data1+(10*randn(1000)+50)\n"
   ]
  },
  {
   "cell_type": "code",
   "execution_count": 4,
   "id": "fca4448f",
   "metadata": {},
   "outputs": [
    {
     "name": "stdout",
     "output_type": "stream",
     "text": [
      "Pearsons correlation:0.888\n"
     ]
    }
   ],
   "source": [
    "# calculate Pearson's correlation\n",
    "corr,_=pearsonr(data1,data2)\n",
    "print('Pearsons correlation:%.3f'%corr)"
   ]
  },
  {
   "cell_type": "code",
   "execution_count": null,
   "id": "3007221f",
   "metadata": {},
   "outputs": [],
   "source": []
  }
 ],
 "metadata": {
  "kernelspec": {
   "display_name": "Python 3 (ipykernel)",
   "language": "python",
   "name": "python3"
  },
  "language_info": {
   "codemirror_mode": {
    "name": "ipython",
    "version": 3
   },
   "file_extension": ".py",
   "mimetype": "text/x-python",
   "name": "python",
   "nbconvert_exporter": "python",
   "pygments_lexer": "ipython3",
   "version": "3.10.5"
  }
 },
 "nbformat": 4,
 "nbformat_minor": 5
}
