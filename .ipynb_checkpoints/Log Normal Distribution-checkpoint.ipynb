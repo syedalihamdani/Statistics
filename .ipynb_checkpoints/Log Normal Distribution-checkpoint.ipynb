{
 "cells": [
  {
   "cell_type": "code",
   "execution_count": 1,
   "id": "056a8139",
   "metadata": {},
   "outputs": [],
   "source": [
    "# importing library"
   ]
  },
  {
   "cell_type": "code",
   "execution_count": 2,
   "id": "8c62fd4f",
   "metadata": {},
   "outputs": [],
   "source": [
    "from scipy.stats import lognorm"
   ]
  },
  {
   "cell_type": "code",
   "execution_count": 3,
   "id": "94a5de1a",
   "metadata": {},
   "outputs": [],
   "source": [
    "numargs=lognorm.numargs"
   ]
  },
  {
   "cell_type": "code",
   "execution_count": 4,
   "id": "a02db6c6",
   "metadata": {},
   "outputs": [],
   "source": [
    "a,b=4.32,3.18"
   ]
  },
  {
   "cell_type": "code",
   "execution_count": 6,
   "id": "657e51c4",
   "metadata": {},
   "outputs": [
    {
     "name": "stdout",
     "output_type": "stream",
     "text": [
      "RV:\n",
      " <scipy.stats._distn_infrastructure.rv_continuous_frozen object at 0x00000137AAD0E440>\n"
     ]
    }
   ],
   "source": [
    "rv=lognorm(a,b)\n",
    "print(\"RV:\\n\",rv)"
   ]
  },
  {
   "cell_type": "code",
   "execution_count": 7,
   "id": "c315868a",
   "metadata": {},
   "outputs": [],
   "source": [
    "# Exd2\n",
    "import numpy as np"
   ]
  },
  {
   "cell_type": "code",
   "execution_count": 8,
   "id": "4689ff90",
   "metadata": {},
   "outputs": [],
   "source": [
    "quantile=np.arange(0.01,1,0.1)"
   ]
  },
  {
   "cell_type": "code",
   "execution_count": 9,
   "id": "1e63dd9c",
   "metadata": {},
   "outputs": [],
   "source": [
    "# Random Variates"
   ]
  },
  {
   "cell_type": "code",
   "execution_count": 10,
   "id": "b5a98eef",
   "metadata": {},
   "outputs": [
    {
     "name": "stdout",
     "output_type": "stream",
     "text": [
      "Random Variates:\n",
      " 7.193249797782094\n"
     ]
    }
   ],
   "source": [
    "R=lognorm.rvs(a,b)\n",
    "print(\"Random Variates:\\n\",R)"
   ]
  },
  {
   "cell_type": "code",
   "execution_count": 11,
   "id": "8bbeb2b8",
   "metadata": {},
   "outputs": [],
   "source": [
    "# PDF"
   ]
  },
  {
   "cell_type": "code",
   "execution_count": 12,
   "id": "c14d3530",
   "metadata": {},
   "outputs": [],
   "source": [
    "R=lognorm.pdf(a,b,quantile)"
   ]
  },
  {
   "cell_type": "code",
   "execution_count": 13,
   "id": "a0a6c286",
   "metadata": {},
   "outputs": [
    {
     "name": "stdout",
     "output_type": "stream",
     "text": [
      "\n",
      "Probability Distribution:\n",
      " [0.02619234 0.02690484 0.02765301 0.0284395  0.02926727 0.03013955\n",
      " 0.03105993 0.03203241 0.03306142 0.03415191]\n"
     ]
    }
   ],
   "source": [
    "print(\"\\nProbability Distribution:\\n\",R)"
   ]
  },
  {
   "cell_type": "code",
   "execution_count": 14,
   "id": "5ca2624b",
   "metadata": {},
   "outputs": [],
   "source": [
    "# EXe3\n",
    "import numpy as np\n",
    "import matplotlib.pyplot as plt"
   ]
  },
  {
   "cell_type": "code",
   "execution_count": 15,
   "id": "8ebec49f",
   "metadata": {},
   "outputs": [],
   "source": [
    "distribution=np.linspace(0,np.minimum(rv.dist.b,3))"
   ]
  },
  {
   "cell_type": "code",
   "execution_count": 16,
   "id": "6d8c2794",
   "metadata": {},
   "outputs": [
    {
     "name": "stdout",
     "output_type": "stream",
     "text": [
      "Distribution:\n",
      " [0.         0.06122449 0.12244898 0.18367347 0.24489796 0.30612245\n",
      " 0.36734694 0.42857143 0.48979592 0.55102041 0.6122449  0.67346939\n",
      " 0.73469388 0.79591837 0.85714286 0.91836735 0.97959184 1.04081633\n",
      " 1.10204082 1.16326531 1.2244898  1.28571429 1.34693878 1.40816327\n",
      " 1.46938776 1.53061224 1.59183673 1.65306122 1.71428571 1.7755102\n",
      " 1.83673469 1.89795918 1.95918367 2.02040816 2.08163265 2.14285714\n",
      " 2.20408163 2.26530612 2.32653061 2.3877551  2.44897959 2.51020408\n",
      " 2.57142857 2.63265306 2.69387755 2.75510204 2.81632653 2.87755102\n",
      " 2.93877551 3.        ]\n"
     ]
    },
    {
     "data": {
      "image/png": "[encoded data removed]",
      "text/plain": [
       "<Figure size 432x288 with 1 Axes>"
      ]
     },
     "metadata": {
      "needs_background": "light"
     },
     "output_type": "display_data"
    }
   ],
   "source": [
    "print(\"Distribution:\\n\",distribution)\n",
    "plot=plt.plot(distribution,rv.pdf(distribution))"
   ]
  },
  {
   "cell_type": "code",
   "execution_count": null,
   "id": "0e8f17b8",
   "metadata": {},
   "outputs": [],
   "source": []
  }
 ],
 "metadata": {
  "kernelspec": {
   "display_name": "Python 3 (ipykernel)",
   "language": "python",
   "name": "python3"
  },
  "language_info": {
   "codemirror_mode": {
    "name": "ipython",
    "version": 3
   },
   "file_extension": ".py",
   "mimetype": "text/x-python",
   "name": "python",
   "nbconvert_exporter": "python",
   "pygments_lexer": "ipython3",
   "version": "3.10.5"
  }
 },
 "nbformat": 4,
 "nbformat_minor": 5
}
