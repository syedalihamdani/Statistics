{
 "cells": [
  {
   "cell_type": "code",
   "execution_count": 1,
   "id": "14fc2945",
   "metadata": {},
   "outputs": [],
   "source": [
    "# Python code th demonstrate the \n",
    "# use of numpy.cov\n",
    "import numpy as np"
   ]
  },
  {
   "cell_type": "code",
   "execution_count": 4,
   "id": "090c24fd",
   "metadata": {},
   "outputs": [
    {
     "name": "stdout",
     "output_type": "stream",
     "text": [
      "Shape of array:\n",
      " (3, 3)\n",
      "Covariance matrix of x:n [[4.33333333 2.83333333 2.        ]\n",
      " [2.83333333 2.33333333 1.5       ]\n",
      " [2.         1.5        1.        ]]\n"
     ]
    }
   ],
   "source": [
    "x=np.array([[0,3,4],[1,2,4],[3,4,5]])\n",
    "print(\"Shape of array:\\n\",np.shape(x))\n",
    "print(\"Covariance matrix of x:n\",np.cov(x))"
   ]
  },
  {
   "cell_type": "code",
   "execution_count": null,
   "id": "701a7f8b",
   "metadata": {},
   "outputs": [],
   "source": []
  }
 ],
 "metadata": {
  "kernelspec": {
   "display_name": "Python 3 (ipykernel)",
   "language": "python",
   "name": "python3"
  },
  "language_info": {
   "codemirror_mode": {
    "name": "ipython",
    "version": 3
   },
   "file_extension": ".py",
   "mimetype": "text/x-python",
   "name": "python",
   "nbconvert_exporter": "python",
   "pygments_lexer": "ipython3",
   "version": "3.10.5"
  }
 },
 "nbformat": 4,
 "nbformat_minor": 5
}
