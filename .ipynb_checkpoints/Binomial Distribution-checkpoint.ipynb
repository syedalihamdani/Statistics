{
 "cells": [
  {
   "cell_type": "code",
   "execution_count": 1,
   "id": "6c3dab41",
   "metadata": {},
   "outputs": [],
   "source": [
    "from scipy.stats import binom"
   ]
  },
  {
   "cell_type": "code",
   "execution_count": 2,
   "id": "bfebd118",
   "metadata": {},
   "outputs": [],
   "source": [
    "# setting the values"
   ]
  },
  {
   "cell_type": "code",
   "execution_count": 3,
   "id": "f55bdd3d",
   "metadata": {},
   "outputs": [],
   "source": [
    "# of n and p"
   ]
  },
  {
   "cell_type": "code",
   "execution_count": 4,
   "id": "ce332686",
   "metadata": {},
   "outputs": [],
   "source": [
    "n=6"
   ]
  },
  {
   "cell_type": "code",
   "execution_count": 5,
   "id": "b92119a0",
   "metadata": {},
   "outputs": [],
   "source": [
    "p=0.6"
   ]
  },
  {
   "cell_type": "code",
   "execution_count": 6,
   "id": "39e615b7",
   "metadata": {},
   "outputs": [],
   "source": [
    "# defining the list of r values"
   ]
  },
  {
   "cell_type": "code",
   "execution_count": 7,
   "id": "0fb20597",
   "metadata": {},
   "outputs": [],
   "source": [
    "r_values=list(range(n+1))"
   ]
  },
  {
   "cell_type": "code",
   "execution_count": 8,
   "id": "f7766de3",
   "metadata": {},
   "outputs": [],
   "source": [
    "# obtaining the mean and variance"
   ]
  },
  {
   "cell_type": "code",
   "execution_count": 9,
   "id": "c28dac52",
   "metadata": {},
   "outputs": [],
   "source": [
    "mean,var=binom.stats(n,p)"
   ]
  },
  {
   "cell_type": "code",
   "execution_count": 10,
   "id": "5322a6d3",
   "metadata": {},
   "outputs": [],
   "source": [
    "# list of pmf values"
   ]
  },
  {
   "cell_type": "code",
   "execution_count": 11,
   "id": "d61da4d2",
   "metadata": {},
   "outputs": [],
   "source": [
    "dist=[binom.pmf(r,n,p) for r in r_values]"
   ]
  },
  {
   "cell_type": "code",
   "execution_count": 12,
   "id": "fe51b348",
   "metadata": {},
   "outputs": [],
   "source": [
    "# printing the table"
   ]
  },
  {
   "cell_type": "code",
   "execution_count": 13,
   "id": "b485e858",
   "metadata": {},
   "outputs": [
    {
     "name": "stdout",
     "output_type": "stream",
     "text": [
      "r\tp(r)\n"
     ]
    }
   ],
   "source": [
    "print(\"r\\tp(r)\")"
   ]
  },
  {
   "cell_type": "code",
   "execution_count": 14,
   "id": "41a395da",
   "metadata": {},
   "outputs": [
    {
     "name": "stdout",
     "output_type": "stream",
     "text": [
      "0\t0.0040960000000000015\n",
      "1\t0.03686400000000002\n",
      "2\t0.1382400000000001\n",
      "3\t0.2764800000000001\n",
      "4\t0.3110400000000001\n",
      "5\t0.1866240000000001\n",
      "6\t0.04665599999999999\n",
      "mean = 3.5999999999999996\n",
      "variance =1.44\n"
     ]
    }
   ],
   "source": [
    "for i in range(n+1):\n",
    "    print(str(r_values[i]) + \"\\t\" + str(dist[i]))\n",
    "# printing mean and variance\n",
    "print(\"mean = \"+str(mean))\n",
    "print(\"variance =\" +str(var))"
   ]
  },
  {
   "cell_type": "code",
   "execution_count": 15,
   "id": "1a37b05e",
   "metadata": {},
   "outputs": [],
   "source": [
    "# Exe3"
   ]
  },
  {
   "cell_type": "code",
   "execution_count": 16,
   "id": "8fc70a03",
   "metadata": {},
   "outputs": [],
   "source": [
    "from scipy.stats import binom\n",
    "import matplotlib.pyplot as plt"
   ]
  },
  {
   "cell_type": "code",
   "execution_count": 17,
   "id": "a526be10",
   "metadata": {},
   "outputs": [],
   "source": [
    "# setting the values"
   ]
  },
  {
   "cell_type": "code",
   "execution_count": 18,
   "id": "b78ab112",
   "metadata": {},
   "outputs": [],
   "source": [
    "# of n and p"
   ]
  },
  {
   "cell_type": "code",
   "execution_count": 19,
   "id": "aece919d",
   "metadata": {},
   "outputs": [],
   "source": [
    "n=6"
   ]
  },
  {
   "cell_type": "code",
   "execution_count": 20,
   "id": "d9e9130d",
   "metadata": {},
   "outputs": [],
   "source": [
    "p=0.6"
   ]
  },
  {
   "cell_type": "code",
   "execution_count": 21,
   "id": "75e7934f",
   "metadata": {},
   "outputs": [],
   "source": [
    "# defining list of r values"
   ]
  },
  {
   "cell_type": "code",
   "execution_count": 22,
   "id": "4ba1d949",
   "metadata": {},
   "outputs": [],
   "source": [
    "r_values=list(range(n+1))\n",
    "# list of pmf values"
   ]
  },
  {
   "cell_type": "code",
   "execution_count": 23,
   "id": "04b9b099",
   "metadata": {},
   "outputs": [],
   "source": [
    "dist=[binom.pmf(r,n,p) for r in r_values]"
   ]
  },
  {
   "cell_type": "code",
   "execution_count": 24,
   "id": "a2d3a6d8",
   "metadata": {},
   "outputs": [],
   "source": [
    "# plotting the graph"
   ]
  },
  {
   "cell_type": "code",
   "execution_count": 25,
   "id": "e5af3218",
   "metadata": {},
   "outputs": [
    {
     "data": {
      "image/png": "[encoded data removed]",
      "text/plain": [
       "<Figure size 432x288 with 1 Axes>"
      ]
     },
     "metadata": {
      "needs_background": "light"
     },
     "output_type": "display_data"
    }
   ],
   "source": [
    "plt.bar(r_values,dist)\n",
    "plt.show()"
   ]
  },
  {
   "cell_type": "code",
   "execution_count": null,
   "id": "a470d66d",
   "metadata": {},
   "outputs": [],
   "source": []
  }
 ],
 "metadata": {
  "kernelspec": {
   "display_name": "Python 3 (ipykernel)",
   "language": "python",
   "name": "python3"
  },
  "language_info": {
   "codemirror_mode": {
    "name": "ipython",
    "version": 3
   },
   "file_extension": ".py",
   "mimetype": "text/x-python",
   "name": "python",
   "nbconvert_exporter": "python",
   "pygments_lexer": "ipython3",
   "version": "3.10.5"
  }
 },
 "nbformat": 4,
 "nbformat_minor": 5
}
