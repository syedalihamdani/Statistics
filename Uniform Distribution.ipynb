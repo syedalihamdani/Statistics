{
 "cells": [
  {
   "cell_type": "code",
   "execution_count": 1,
   "id": "9b988513",
   "metadata": {},
   "outputs": [],
   "source": [
    "# importing library"
   ]
  },
  {
   "cell_type": "code",
   "execution_count": 2,
   "id": "cafb5ac4",
   "metadata": {},
   "outputs": [],
   "source": [
    "from scipy.stats import uniform\n",
    "numargs=uniform.numargs"
   ]
  },
  {
   "cell_type": "code",
   "execution_count": 3,
   "id": "b2764a6c",
   "metadata": {},
   "outputs": [],
   "source": [
    "a,b=0.2,0.8"
   ]
  },
  {
   "cell_type": "code",
   "execution_count": 4,
   "id": "8f97e03b",
   "metadata": {},
   "outputs": [],
   "source": [
    "rv=uniform(a,b)"
   ]
  },
  {
   "cell_type": "code",
   "execution_count": 5,
   "id": "cbde99c0",
   "metadata": {},
   "outputs": [
    {
     "name": "stdout",
     "output_type": "stream",
     "text": [
      "RV:\n",
      " <scipy.stats._distn_infrastructure.rv_continuous_frozen object at 0x000001611A7D8DF0>\n"
     ]
    }
   ],
   "source": [
    "print(\"RV:\\n\",rv)"
   ]
  },
  {
   "cell_type": "code",
   "execution_count": 6,
   "id": "933f2a34",
   "metadata": {},
   "outputs": [],
   "source": [
    "# EXe2"
   ]
  },
  {
   "cell_type": "code",
   "execution_count": 7,
   "id": "343f834b",
   "metadata": {},
   "outputs": [],
   "source": [
    "import numpy as np\n",
    "quantile=np.arange(0.01,1,0.1)"
   ]
  },
  {
   "cell_type": "code",
   "execution_count": 8,
   "id": "c999fa67",
   "metadata": {},
   "outputs": [],
   "source": [
    "# Random variates"
   ]
  },
  {
   "cell_type": "code",
   "execution_count": 10,
   "id": "4963c4cf",
   "metadata": {},
   "outputs": [],
   "source": [
    "R=uniform.rvs(a,b, size=10)"
   ]
  },
  {
   "cell_type": "code",
   "execution_count": 11,
   "id": "8894c6df",
   "metadata": {},
   "outputs": [
    {
     "name": "stdout",
     "output_type": "stream",
     "text": [
      "Random Variates:\n",
      " [0.66929155 0.72272538 0.64854025 0.82970442 0.86391711 0.39871106\n",
      " 0.27662845 0.40196618 0.67263069 0.83912791]\n"
     ]
    }
   ],
   "source": [
    "print(\"Random Variates:\\n\",R)"
   ]
  },
  {
   "cell_type": "code",
   "execution_count": 12,
   "id": "32ddf7e7",
   "metadata": {},
   "outputs": [],
   "source": [
    "# PDF"
   ]
  },
  {
   "cell_type": "code",
   "execution_count": 13,
   "id": "155dc361",
   "metadata": {},
   "outputs": [],
   "source": [
    "x=np.linspace(uniform.ppf(0.01,a,b),uniform.ppf(0.99,a,b),10)"
   ]
  },
  {
   "cell_type": "code",
   "execution_count": 14,
   "id": "a17bfd4f",
   "metadata": {},
   "outputs": [],
   "source": [
    "R=uniform.pdf(x,1,3)"
   ]
  },
  {
   "cell_type": "code",
   "execution_count": 15,
   "id": "405e9d6a",
   "metadata": {},
   "outputs": [
    {
     "name": "stdout",
     "output_type": "stream",
     "text": [
      "\n",
      "Probability Distribution:\n",
      " [0. 0. 0. 0. 0. 0. 0. 0. 0. 0.]\n"
     ]
    }
   ],
   "source": [
    "print(\"\\nProbability Distribution:\\n\",R)"
   ]
  },
  {
   "cell_type": "code",
   "execution_count": 16,
   "id": "6cc185fa",
   "metadata": {},
   "outputs": [],
   "source": [
    "# Exe3"
   ]
  },
  {
   "cell_type": "code",
   "execution_count": 17,
   "id": "925b7958",
   "metadata": {},
   "outputs": [],
   "source": [
    "import numpy as np\n",
    "import matplotlib.pyplot as plt"
   ]
  },
  {
   "cell_type": "code",
   "execution_count": 19,
   "id": "b253e576",
   "metadata": {},
   "outputs": [
    {
     "name": "stdout",
     "output_type": "stream",
     "text": [
      "Distribution:\n",
      " [0.         0.02040816 0.04081633 0.06122449 0.08163265 0.10204082\n",
      " 0.12244898 0.14285714 0.16326531 0.18367347 0.20408163 0.2244898\n",
      " 0.24489796 0.26530612 0.28571429 0.30612245 0.32653061 0.34693878\n",
      " 0.36734694 0.3877551  0.40816327 0.42857143 0.44897959 0.46938776\n",
      " 0.48979592 0.51020408 0.53061224 0.55102041 0.57142857 0.59183673\n",
      " 0.6122449  0.63265306 0.65306122 0.67346939 0.69387755 0.71428571\n",
      " 0.73469388 0.75510204 0.7755102  0.79591837 0.81632653 0.83673469\n",
      " 0.85714286 0.87755102 0.89795918 0.91836735 0.93877551 0.95918367\n",
      " 0.97959184 1.        ]\n"
     ]
    },
    {
     "data": {
      "image/png": "[encoded data removed]",
      "text/plain": [
       "<Figure size 432x288 with 1 Axes>"
      ]
     },
     "metadata": {
      "needs_background": "light"
     },
     "output_type": "display_data"
    }
   ],
   "source": [
    "distribution=np.linspace(0,np.minimum(rv.dist.b,3))\n",
    "print(\"Distribution:\\n\",distribution)\n",
    "plot=plt.plot(distribution,rv.pdf(distribution))"
   ]
  },
  {
   "cell_type": "code",
   "execution_count": null,
   "id": "68dc7208",
   "metadata": {},
   "outputs": [],
   "source": []
  }
 ],
 "metadata": {
  "kernelspec": {
   "display_name": "Python 3 (ipykernel)",
   "language": "python",
   "name": "python3"
  },
  "language_info": {
   "codemirror_mode": {
    "name": "ipython",
    "version": 3
   },
   "file_extension": ".py",
   "mimetype": "text/x-python",
   "name": "python",
   "nbconvert_exporter": "python",
   "pygments_lexer": "ipython3",
   "version": "3.10.5"
  }
 },
 "nbformat": 4,
 "nbformat_minor": 5
}
