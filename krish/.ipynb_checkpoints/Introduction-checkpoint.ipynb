{
 "cells": [
  {
   "cell_type": "markdown",
   "id": "7d6ec812",
   "metadata": {},
   "source": [
    "### What is statistics?"
   ]
  },
  {
   "cell_type": "markdown",
   "id": "c7052b38",
   "metadata": {},
   "source": [
    "###### Statistics is a science of collecting, organizing and analyizing the data."
   ]
  },
  {
   "cell_type": "markdown",
   "id": "5cd21b20",
   "metadata": {},
   "source": [
    "### Why we are doing this?"
   ]
  },
  {
   "cell_type": "markdown",
   "id": "ddec7ab9",
   "metadata": {},
   "source": [
    "###### We are doing this better decision making."
   ]
  },
  {
   "cell_type": "markdown",
   "id": "e779746b",
   "metadata": {},
   "source": [
    "### What is data?"
   ]
  },
  {
   "cell_type": "markdown",
   "id": "d11f46a8",
   "metadata": {},
   "source": [
    "##### Facts and pieces of information that can be measure?"
   ]
  },
  {
   "cell_type": "markdown",
   "id": "b073ae1a",
   "metadata": {},
   "source": [
    "### What are the types of statistics?"
   ]
  },
  {
   "cell_type": "markdown",
   "id": "05c48aa3",
   "metadata": {},
   "source": [
    "##### There are 2 types of statistics. Descriptive statistics and inferential statistics"
   ]
  },
  {
   "cell_type": "markdown",
   "id": "fdc991a8",
   "metadata": {},
   "source": [
    "### What is descriptive statistic?"
   ]
  },
  {
   "cell_type": "markdown",
   "id": "0e2e5c10",
   "metadata": {},
   "source": [
    "##### It is all about the organizating and summarizing the data"
   ]
  },
  {
   "cell_type": "markdown",
   "id": "b17a196d",
   "metadata": {},
   "source": [
    "### What is inferential statistic?"
   ]
  },
  {
   "cell_type": "markdown",
   "id": "6418feee",
   "metadata": {},
   "source": [
    "##### Inferential statistic is a technique chnique where in we used the data that we have measured to form conclusions"
   ]
  },
  {
   "cell_type": "markdown",
   "id": "c860b389",
   "metadata": {},
   "source": [
    "# Sampling techniques"
   ]
  },
  {
   "cell_type": "markdown",
   "id": "794cc4d8",
   "metadata": {},
   "source": [
    "#### Simple Random Sampling"
   ]
  },
  {
   "cell_type": "markdown",
   "id": "58aafce0",
   "metadata": {},
   "source": [
    "##### in simple random sampling every member of the population(N) has an equal chance of being selected."
   ]
  },
  {
   "cell_type": "markdown",
   "id": "8518b675",
   "metadata": {},
   "source": [
    "### Stratified sampling"
   ]
  },
  {
   "cell_type": "markdown",
   "id": "0af6262d",
   "metadata": {},
   "source": [
    "##### Where the population is split into non_overlaping groups."
   ]
  },
  {
   "cell_type": "markdown",
   "id": "386aaf09",
   "metadata": {},
   "source": [
    "### Systamatic sampling"
   ]
  },
  {
   "cell_type": "markdown",
   "id": "9811a0aa",
   "metadata": {},
   "source": [
    "#### in this sampling chose any nth person"
   ]
  },
  {
   "cell_type": "markdown",
   "id": "24826ed0",
   "metadata": {},
   "source": [
    "### Convenience sampling"
   ]
  },
  {
   "cell_type": "markdown",
   "id": "676747db",
   "metadata": {},
   "source": [
    "#### In this only relvant expert people are choseen"
   ]
  },
  {
   "cell_type": "markdown",
   "id": "c5e16280",
   "metadata": {},
   "source": [
    "### Random sampling"
   ]
  },
  {
   "cell_type": "markdown",
   "id": "c7f88588",
   "metadata": {},
   "source": [
    "# Variable"
   ]
  },
  {
   "cell_type": "markdown",
   "id": "fe37b942",
   "metadata": {},
   "source": [
    "###### A variable is a property that can take any value. There are two types of variables. Quantity variabls and qualtity/categorical variable.In categroical we can derived some categories based on categorical variable."
   ]
  },
  {
   "cell_type": "markdown",
   "id": "560a0737",
   "metadata": {},
   "source": [
    "### categorical variable"
   ]
  },
  {
   "cell_type": "markdown",
   "id": "eebca446",
   "metadata": {},
   "source": [
    "##### In categroical we can derived some categories based on categorical variable."
   ]
  },
  {
   "cell_type": "markdown",
   "id": "cdbf4f11",
   "metadata": {},
   "source": [
    "### Quantity variabls"
   ]
  },
  {
   "cell_type": "markdown",
   "id": "9ffb0412",
   "metadata": {},
   "source": [
    "###### There 2 types of quantities variables discrete variable and continous variables."
   ]
  },
  {
   "cell_type": "markdown",
   "id": "7d1d15ff",
   "metadata": {},
   "source": [
    "### Variable measurement scales"
   ]
  },
  {
   "cell_type": "markdown",
   "id": "c5162b64",
   "metadata": {},
   "source": [
    "#####  There are 4 types of variable measurement scales.Nominal ,Ordinal ,Interval , Ratio"
   ]
  },
  {
   "cell_type": "markdown",
   "id": "af5c4804",
   "metadata": {},
   "source": [
    "### Nominal data"
   ]
  },
  {
   "cell_type": "markdown",
   "id": "9c93a2cb",
   "metadata": {},
   "source": [
    "#### Nominal data is categorical data examples are color ,gender and types of flowers."
   ]
  },
  {
   "cell_type": "markdown",
   "id": "c11c8912",
   "metadata": {},
   "source": [
    "### Ordinal data"
   ]
  },
  {
   "cell_type": "markdown",
   "id": "87bf26b8",
   "metadata": {},
   "source": [
    "###### In ordinal data order of the data matter the does not. example: marks of students does not matter but the order of the marks matter so that we could know the rank."
   ]
  },
  {
   "cell_type": "markdown",
   "id": "57978230",
   "metadata": {},
   "source": [
    "### Interval data"
   ]
  },
  {
   "cell_type": "markdown",
   "id": "88ab1321",
   "metadata": {},
   "source": [
    "###### In the interval data value and order both are matters.natural zero does not present. examples: temperatue values at different time.zero temperature does not make any difference.another example is booking of set at specific time."
   ]
  },
  {
   "cell_type": "markdown",
   "id": "bbb13b7c",
   "metadata": {},
   "source": [
    "### Ratio data"
   ]
  },
  {
   "cell_type": "markdown",
   "id": "9f8209e3",
   "metadata": {},
   "source": [
    "###### Ratio data is a form of quantitative (numeric) data. It measures variables on a continuous scale, with an equal distance between adjacent values. While it shares these features with interval data (another type of quantitative data), a distinguishing property of ratio data is that it has a ‘true zero."
   ]
  },
  {
   "cell_type": "markdown",
   "id": "74ebd1f1",
   "metadata": {},
   "source": [
    "### Frequency distribution"
   ]
  },
  {
   "cell_type": "markdown",
   "id": "8ee1f34b",
   "metadata": {},
   "source": [
    "##### In the categorical data how many times certain data type appear is consider as its frequency. in cumulative frequency, previous frequency is added to next frequency level at the end we will get the total number of data."
   ]
  },
  {
   "cell_type": "markdown",
   "id": "0e54a979",
   "metadata": {},
   "source": [
    "#### bar graph is drawn on descrite variable and hitogram is drawn on continous variable"
   ]
  },
  {
   "cell_type": "markdown",
   "id": "6c85d793",
   "metadata": {},
   "source": [
    "### Mean"
   ]
  },
  {
   "cell_type": "markdown",
   "id": "3a35963a",
   "metadata": {},
   "source": [
    "###### mean is the part of measure of central measure of tantancy."
   ]
  },
  {
   "cell_type": "markdown",
   "id": "25dfba5b",
   "metadata": {},
   "source": [
    "### Centran tandancy"
   ]
  },
  {
   "cell_type": "markdown",
   "id": "a40d6cc8",
   "metadata": {},
   "source": [
    "##### mean , median ,mode which referes to the measure used to determin the center of the distribution of data."
   ]
  },
  {
   "cell_type": "code",
   "execution_count": null,
   "id": "293b3545",
   "metadata": {},
   "outputs": [],
   "source": []
  }
 ],
 "metadata": {
  "kernelspec": {
   "display_name": "Python 3 (ipykernel)",
   "language": "python",
   "name": "python3"
  },
  "language_info": {
   "codemirror_mode": {
    "name": "ipython",
    "version": 3
   },
   "file_extension": ".py",
   "mimetype": "text/x-python",
   "name": "python",
   "nbconvert_exporter": "python",
   "pygments_lexer": "ipython3",
   "version": "3.10.5"
  }
 },
 "nbformat": 4,
 "nbformat_minor": 5
}
