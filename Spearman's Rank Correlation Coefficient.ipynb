{
 "cells": [
  {
   "cell_type": "code",
   "execution_count": 1,
   "id": "010bd40b",
   "metadata": {},
   "outputs": [],
   "source": [
    "# Import pandas and scipy.stats"
   ]
  },
  {
   "cell_type": "code",
   "execution_count": 2,
   "id": "53d28df4",
   "metadata": {},
   "outputs": [],
   "source": [
    "import pandas as pd\n",
    "import scipy.stats"
   ]
  },
  {
   "cell_type": "code",
   "execution_count": 3,
   "id": "c021122c",
   "metadata": {},
   "outputs": [],
   "source": [
    "# Two lists x and y"
   ]
  },
  {
   "cell_type": "code",
   "execution_count": 4,
   "id": "551b1f03",
   "metadata": {},
   "outputs": [],
   "source": [
    "x=[15,18,21,15,21]"
   ]
  },
  {
   "cell_type": "code",
   "execution_count": 5,
   "id": "b0b9336e",
   "metadata": {},
   "outputs": [],
   "source": [
    "y=[25,25,27,27,27]"
   ]
  },
  {
   "cell_type": "code",
   "execution_count": 6,
   "id": "3ec173c5",
   "metadata": {},
   "outputs": [],
   "source": [
    "# Create a function that takes in x's and y's"
   ]
  },
  {
   "cell_type": "code",
   "execution_count": 11,
   "id": "57eff7c5",
   "metadata": {},
   "outputs": [],
   "source": [
    "#     Calculate the rank of x's\n",
    "def spearmans_rank_correlation(x,y):\n",
    "    xranks=pd.Series(x).rank()\n",
    "    print(\"Rankings of x:\")\n",
    "    print(xranks)\n",
    "    # Calculate the rankin of the y's\n",
    "    yranks=pd.Series(y).rank()\n",
    "    print(\"Rankings of y:\")\n",
    "    print(yranks)\n",
    "    # Calculate the rankin of the y's\n",
    "    yranks=pd.Series(y).rank()\n",
    "    print(\"Rankings of y:\")\n",
    "    print(yranks)"
   ]
  },
  {
   "cell_type": "code",
   "execution_count": 12,
   "id": "b8085fe0",
   "metadata": {},
   "outputs": [],
   "source": [
    "# Call the function"
   ]
  },
  {
   "cell_type": "code",
   "execution_count": 13,
   "id": "70e77d86",
   "metadata": {},
   "outputs": [
    {
     "name": "stdout",
     "output_type": "stream",
     "text": [
      "Rankings of x:\n",
      "0    1.5\n",
      "1    3.0\n",
      "2    4.5\n",
      "3    1.5\n",
      "4    4.5\n",
      "dtype: float64\n",
      "Rankings of y:\n",
      "0    1.5\n",
      "1    1.5\n",
      "2    4.0\n",
      "3    4.0\n",
      "4    4.0\n",
      "dtype: float64\n",
      "Rankings of y:\n",
      "0    1.5\n",
      "1    1.5\n",
      "2    4.0\n",
      "3    4.0\n",
      "4    4.0\n",
      "dtype: float64\n"
     ]
    }
   ],
   "source": [
    "spearmans_rank_correlation(x,y)"
   ]
  },
  {
   "cell_type": "code",
   "execution_count": null,
   "id": "73bb765b",
   "metadata": {},
   "outputs": [],
   "source": []
  }
 ],
 "metadata": {
  "kernelspec": {
   "display_name": "Python 3 (ipykernel)",
   "language": "python",
   "name": "python3"
  },
  "language_info": {
   "codemirror_mode": {
    "name": "ipython",
    "version": 3
   },
   "file_extension": ".py",
   "mimetype": "text/x-python",
   "name": "python",
   "nbconvert_exporter": "python",
   "pygments_lexer": "ipython3",
   "version": "3.10.5"
  }
 },
 "nbformat": 4,
 "nbformat_minor": 5
}
