{
 "cells": [
  {
   "cell_type": "code",
   "execution_count": 1,
   "id": "dadaa110",
   "metadata": {},
   "outputs": [
    {
     "name": "stdout",
     "output_type": "stream",
     "text": [
      "RV:\n",
      " <scipy.stats._distn_infrastructure.rv_continuous_frozen object at 0x0000028CA962BFD0>\n"
     ]
    }
   ],
   "source": [
    "# importing library \n",
    "from scipy.stats import powerlaw\n",
    "numargs = powerlaw.numargs\n",
    "a,b =4.32,3.18\n",
    "rv=powerlaw(a,b)\n",
    "print(\"RV:\\n\",rv)"
   ]
  },
  {
   "cell_type": "code",
   "execution_count": 2,
   "id": "d7e7b30b",
   "metadata": {},
   "outputs": [],
   "source": [
    "# Exe2"
   ]
  },
  {
   "cell_type": "code",
   "execution_count": 3,
   "id": "511101fb",
   "metadata": {},
   "outputs": [],
   "source": [
    "import numpy as np\n",
    "quantile =np.arange(0.01,1,0.1)"
   ]
  },
  {
   "cell_type": "code",
   "execution_count": 4,
   "id": "bccc6941",
   "metadata": {},
   "outputs": [],
   "source": [
    "# Random variates"
   ]
  },
  {
   "cell_type": "code",
   "execution_count": 5,
   "id": "9f41d4fc",
   "metadata": {},
   "outputs": [
    {
     "name": "stdout",
     "output_type": "stream",
     "text": [
      "Random Variates: \n",
      " 4.042011913239231\n"
     ]
    }
   ],
   "source": [
    "R= powerlaw.rvs(a,b)\n",
    "print(\"Random Variates: \\n\", R )"
   ]
  },
  {
   "cell_type": "code",
   "execution_count": 6,
   "id": "1bcd1fc5",
   "metadata": {},
   "outputs": [],
   "source": [
    "# PDF"
   ]
  },
  {
   "cell_type": "code",
   "execution_count": 7,
   "id": "f4e9e458",
   "metadata": {},
   "outputs": [
    {
     "name": "stdout",
     "output_type": "stream",
     "text": [
      "\n",
      " Probability Distribution: \n",
      " [0. 0. 0. 0. 0. 0. 0. 0. 0. 0.]\n"
     ]
    }
   ],
   "source": [
    "R = powerlaw.pdf(a,b,quantile)\n",
    "print(\"\\n Probability Distribution: \\n\",R)"
   ]
  },
  {
   "cell_type": "code",
   "execution_count": 8,
   "id": "2e34a4c1",
   "metadata": {},
   "outputs": [],
   "source": [
    "#  Now show the graphical representation "
   ]
  },
  {
   "cell_type": "code",
   "execution_count": 9,
   "id": "b41e46cd",
   "metadata": {},
   "outputs": [],
   "source": [
    "import numpy as np\n",
    "import matplotlib.pyplot as plt"
   ]
  },
  {
   "cell_type": "code",
   "execution_count": 11,
   "id": "9ee80fbd",
   "metadata": {},
   "outputs": [
    {
     "name": "stdout",
     "output_type": "stream",
     "text": [
      "Distribution: \n",
      " [0.         0.02040816 0.04081633 0.06122449 0.08163265 0.10204082\n",
      " 0.12244898 0.14285714 0.16326531 0.18367347 0.20408163 0.2244898\n",
      " 0.24489796 0.26530612 0.28571429 0.30612245 0.32653061 0.34693878\n",
      " 0.36734694 0.3877551  0.40816327 0.42857143 0.44897959 0.46938776\n",
      " 0.48979592 0.51020408 0.53061224 0.55102041 0.57142857 0.59183673\n",
      " 0.6122449  0.63265306 0.65306122 0.67346939 0.69387755 0.71428571\n",
      " 0.73469388 0.75510204 0.7755102  0.79591837 0.81632653 0.83673469\n",
      " 0.85714286 0.87755102 0.89795918 0.91836735 0.93877551 0.95918367\n",
      " 0.97959184 1.        ]\n"
     ]
    },
    {
     "data": {
      "image/png": "[encoded data removed]",
      "text/plain": [
       "<Figure size 432x288 with 1 Axes>"
      ]
     },
     "metadata": {
      "needs_background": "light"
     },
     "output_type": "display_data"
    }
   ],
   "source": [
    "distribution=np.linspace(0,np.minimum(rv.dist.b,3))\n",
    "print(\"Distribution: \\n\",distribution)\n",
    "plot = plt.plot(distribution,rv.pdf(distribution))"
   ]
  },
  {
   "cell_type": "code",
   "execution_count": null,
   "id": "12e05aff",
   "metadata": {},
   "outputs": [],
   "source": []
  }
 ],
 "metadata": {
  "kernelspec": {
   "display_name": "Python 3 (ipykernel)",
   "language": "python",
   "name": "python3"
  },
  "language_info": {
   "codemirror_mode": {
    "name": "ipython",
    "version": 3
   },
   "file_extension": ".py",
   "mimetype": "text/x-python",
   "name": "python",
   "nbconvert_exporter": "python",
   "pygments_lexer": "ipython3",
   "version": "3.10.5"
  }
 },
 "nbformat": 4,
 "nbformat_minor": 5
}
